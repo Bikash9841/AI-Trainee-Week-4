{
 "cells": [
  {
   "cell_type": "code",
   "execution_count": 1,
   "metadata": {},
   "outputs": [
    {
     "name": "stderr",
     "output_type": "stream",
     "text": [
      "/home/bikasherl/miniconda3/envs/bajra/lib/python3.12/site-packages/torch/cuda/__init__.py:619: UserWarning: Can't initialize NVML\n",
      "  warnings.warn(\"Can't initialize NVML\")\n"
     ]
    }
   ],
   "source": [
    "import torch\n",
    "import torchvision\n",
    "from torchvision.datasets import MNIST\n",
    "from torchvision.transforms import ToTensor\n",
    "import matplotlib.pyplot as plt\n"
   ]
  },
  {
   "cell_type": "code",
   "execution_count": 2,
   "metadata": {},
   "outputs": [
    {
     "data": {
      "text/plain": [
       "Dataset MNIST\n",
       "    Number of datapoints: 60000\n",
       "    Root location: dataset/train/\n",
       "    Split: Train\n",
       "    StandardTransform\n",
       "Transform: ToTensor()"
      ]
     },
     "execution_count": 2,
     "metadata": {},
     "output_type": "execute_result"
    }
   ],
   "source": [
    "train_data=MNIST(root='dataset/train/',train=True,download=True,transform=ToTensor())\n",
    "train_data"
   ]
  },
  {
   "cell_type": "code",
   "execution_count": 3,
   "metadata": {},
   "outputs": [
    {
     "data": {
      "text/plain": [
       "Dataset MNIST\n",
       "    Number of datapoints: 10000\n",
       "    Root location: dataset/test/\n",
       "    Split: Test\n",
       "    StandardTransform\n",
       "Transform: ToTensor()"
      ]
     },
     "execution_count": 3,
     "metadata": {},
     "output_type": "execute_result"
    }
   ],
   "source": [
    "test_data=MNIST(root='dataset/test/',train=False,download=True,transform=ToTensor())\n",
    "test_data"
   ]
  },
  {
   "cell_type": "code",
   "execution_count": 4,
   "metadata": {},
   "outputs": [
    {
     "data": {
      "image/png": "[encoded data removed]",
      "text/plain": [
       "<Figure size 800x800 with 9 Axes>"
      ]
     },
     "metadata": {},
     "output_type": "display_data"
    }
   ],
   "source": [
    "# Create subplots\n",
    "fig, axs = plt.subplots(3, 3, figsize=(8, 8))\n",
    "\n",
    "# Plot images\n",
    "for i in range(3):\n",
    "    for j in range(3):\n",
    "        img, label = train_data[i * 3 + j]  # Accessing each image and label\n",
    "        axs[i, j].imshow(img.squeeze(),cmap='gray')\n",
    "        axs[i, j].set_title(f'Label: {label}')\n",
    "        axs[i, j].axis('off')  # Hide axis\n",
    "\n",
    "plt.tight_layout()\n",
    "plt.show()"
   ]
  },
  {
   "cell_type": "code",
   "execution_count": 5,
   "metadata": {},
   "outputs": [
    {
     "data": {
      "text/plain": [
       "(torch.Size([60000, 784]), torch.Size([60000, 1]))"
      ]
     },
     "execution_count": 5,
     "metadata": {},
     "output_type": "execute_result"
    }
   ],
   "source": [
    "# train set\n",
    "X_train=torch.flatten(train_data.data,1,2).to(torch.float64)\n",
    "Y_train=train_data.targets.reshape(X_train.shape[0],1).to(torch.int8)\n",
    "\n",
    "X_train.shape,Y_train.shape"
   ]
  },
  {
   "cell_type": "code",
   "execution_count": 6,
   "metadata": {},
   "outputs": [
    {
     "data": {
      "text/plain": [
       "(torch.Size([10000, 784]), torch.Size([10000, 1]))"
      ]
     },
     "execution_count": 6,
     "metadata": {},
     "output_type": "execute_result"
    }
   ],
   "source": [
    "# test set\n",
    "X_test=torch.flatten(test_data.data,1,2).to(torch.float64)\n",
    "\n",
    "Y_test=test_data.targets.reshape(X_test.shape[0],1).to(torch.int8)\n",
    "\n",
    "X_test.shape,Y_test.shape"
   ]
  },
  {
   "cell_type": "code",
   "execution_count": 7,
   "metadata": {},
   "outputs": [
    {
     "data": {
      "text/plain": [
       "(torch.Size([60000, 10]), torch.Size([10000, 10]))"
      ]
     },
     "execution_count": 7,
     "metadata": {},
     "output_type": "execute_result"
    }
   ],
   "source": [
    "## One hot encoding For the labels\n",
    "\n",
    "Y_enc_train=torch.zeros((Y_train.shape[0],len(train_data.classes))).to(torch.int8)\n",
    "\n",
    "for i in range(Y_train.shape[0]):\n",
    "    Y_enc_train[i][Y_train[i].item()]=1\n",
    "\n",
    "\n",
    "Y_enc_test=torch.zeros((Y_test.shape[0],len(test_data.classes))).to(torch.int8)\n",
    "\n",
    "for i in range(Y_test.shape[0]):\n",
    "    Y_enc_test[i][Y_test[i].item()]=1\n",
    "\n",
    "\n",
    "Y_enc_train.shape,Y_enc_test.shape"
   ]
  },
  {
   "cell_type": "code",
   "execution_count": 8,
   "metadata": {},
   "outputs": [
    {
     "data": {
      "text/plain": [
       "torch.Size([60000, 10])"
      ]
     },
     "execution_count": 8,
     "metadata": {},
     "output_type": "execute_result"
    }
   ],
   "source": [
    "Y_enc_train.shape"
   ]
  },
  {
   "cell_type": "markdown",
   "metadata": {},
   "source": [
    "## Min max scaling of the training and testing data"
   ]
  },
  {
   "cell_type": "code",
   "execution_count": 9,
   "metadata": {},
   "outputs": [],
   "source": [
    "\n",
    "# scaling train dataset\n",
    "for i in range(X_train.shape[0]):\n",
    "    X_train[i]=(X_train[i]-X_train[i].min())/(X_train[i].max()-X_train[i].min())\n",
    "\n",
    "\n",
    "# scaling test dataset\n",
    "for i in range(X_test.shape[0]):\n",
    "    X_test[i]=(X_test[i]-X_test[i].min())/(X_test[i].max()-X_test[i].min())"
   ]
  },
  {
   "cell_type": "code",
   "execution_count": 10,
   "metadata": {},
   "outputs": [
    {
     "data": {
      "text/plain": [
       "(torch.Size([784, 10]), torch.Size([1, 10]), torch.float64, torch.float64)"
      ]
     },
     "execution_count": 10,
     "metadata": {},
     "output_type": "execute_result"
    }
   ],
   "source": [
    "# Weight and Bias Initialization\n",
    "W=torch.randn((X_train.shape[1],Y_enc_train.shape[1]),dtype=torch.float64)\n",
    "b=torch.randn((1,Y_enc_train.shape[1]),dtype=torch.float64)\n",
    "\n",
    "W.shape,b.shape,W.dtype,b.dtype"
   ]
  },
  {
   "cell_type": "code",
   "execution_count": 11,
   "metadata": {},
   "outputs": [
    {
     "name": "stdout",
     "output_type": "stream",
     "text": [
      "tensor(38.9265, dtype=torch.float64)\n"
     ]
    }
   ],
   "source": [
    "Z=X_train@W+b\n",
    "print(Z.max())"
   ]
  },
  {
   "cell_type": "code",
   "execution_count": 12,
   "metadata": {},
   "outputs": [],
   "source": [
    "def softmax(Z):\n",
    "    return (torch.exp(Z)/torch.sum(torch.exp(Z),dim=1,keepdim=True))"
   ]
  },
  {
   "cell_type": "code",
   "execution_count": 13,
   "metadata": {},
   "outputs": [
    {
     "data": {
      "text/plain": [
       "tensor(13.6996, dtype=torch.float64)"
      ]
     },
     "execution_count": 13,
     "metadata": {},
     "output_type": "execute_result"
    }
   ],
   "source": [
    "Y_hat=softmax(Z)\n",
    "Loss=torch.sum((-Y_enc_train*torch.log(Y_hat)),dim=1,keepdim=True).mean()\n",
    "Loss"
   ]
  },
  {
   "cell_type": "code",
   "execution_count": 14,
   "metadata": {},
   "outputs": [
    {
     "data": {
      "text/plain": [
       "torch.Size([60000, 1])"
      ]
     },
     "execution_count": 14,
     "metadata": {},
     "output_type": "execute_result"
    }
   ],
   "source": [
    "Y_train.shape"
   ]
  },
  {
   "cell_type": "code",
   "execution_count": 15,
   "metadata": {},
   "outputs": [
    {
     "name": "stdout",
     "output_type": "stream",
     "text": [
      "shape- dL_dZ: torch.Size([60000, 10])      \n",
      "shape- dZ_dW: torch.Size([60000, 784])      \n",
      "shape- dL_dW: torch.Size([784, 10])      \n",
      "shape- dL_db: torch.Size([1, 10])\n"
     ]
    }
   ],
   "source": [
    "# Calculation Gradients\n",
    "\n",
    "dL_dZ= (Y_hat-Y_enc_train)/X_train.shape[0]\n",
    "dZ_dW= X_train\n",
    "\n",
    "dL_dW=dZ_dW.T@dL_dZ\n",
    "\n",
    "dL_db=torch.sum(dL_dZ,dim=0,keepdim=True)\n",
    "\n",
    "print(f\"shape- dL_dZ: {dL_dZ.shape}\\\n",
    "      \\nshape- dZ_dW: {dZ_dW.shape}\\\n",
    "      \\nshape- dL_dW: {dL_dW.shape}\\\n",
    "      \\nshape- dL_db: {dL_db.shape}\")\n"
   ]
  },
  {
   "cell_type": "code",
   "execution_count": 16,
   "metadata": {},
   "outputs": [],
   "source": [
    "loss_list_train=[]\n",
    "loss_list_test=[]"
   ]
  },
  {
   "cell_type": "code",
   "execution_count": 17,
   "metadata": {},
   "outputs": [
    {
     "name": "stdout",
     "output_type": "stream",
     "text": [
      "torch.Size([60000, 10, 1])\n",
      "torch.Size([784, 10])\n"
     ]
    }
   ],
   "source": [
    "a=torch.randn((60000,10,10),dtype=torch.float64)\n",
    "b=torch.randn((60000,10,1),dtype=torch.float64)\n",
    "r=a@b\n",
    "print(r.shape)\n",
    "print((X_train.T@(torch.flatten(r,1,2))).shape)"
   ]
  },
  {
   "cell_type": "code",
   "execution_count": 18,
   "metadata": {},
   "outputs": [
    {
     "ename": "RuntimeError",
     "evalue": "The size of tensor a (60000) must match the size of tensor b (10) at non-singleton dimension 1",
     "output_type": "error",
     "traceback": [
      "\u001b[0;31m---------------------------------------------------------------------------\u001b[0m",
      "\u001b[0;31mRuntimeError\u001b[0m                              Traceback (most recent call last)",
      "\u001b[1;32m/media/bikasherl/New Volume/Bajra_Tech/Week 4/Multiclass_Classification.ipynb Cell 19\u001b[0m line \u001b[0;36m3\n\u001b[1;32m      <a href='vscode-notebook-cell:/media/bikasherl/New%20Volume/Bajra_Tech/Week%204/Multiclass_Classification.ipynb#X34sZmlsZQ%3D%3D?line=0'>1</a>\u001b[0m \u001b[39m# Training Loop\u001b[39;00m\n\u001b[1;32m      <a href='vscode-notebook-cell:/media/bikasherl/New%20Volume/Bajra_Tech/Week%204/Multiclass_Classification.ipynb#X34sZmlsZQ%3D%3D?line=1'>2</a>\u001b[0m \u001b[39mfor\u001b[39;00m i \u001b[39min\u001b[39;00m \u001b[39mrange\u001b[39m(\u001b[39m500\u001b[39m):\n\u001b[0;32m----> <a href='vscode-notebook-cell:/media/bikasherl/New%20Volume/Bajra_Tech/Week%204/Multiclass_Classification.ipynb#X34sZmlsZQ%3D%3D?line=2'>3</a>\u001b[0m     Z\u001b[39m=\u001b[39mX_train\u001b[39m@W\u001b[39;49m\u001b[39m+\u001b[39;49mb\n\u001b[1;32m      <a href='vscode-notebook-cell:/media/bikasherl/New%20Volume/Bajra_Tech/Week%204/Multiclass_Classification.ipynb#X34sZmlsZQ%3D%3D?line=3'>4</a>\u001b[0m     Y_hat\u001b[39m=\u001b[39msoftmax(Z)\n\u001b[1;32m      <a href='vscode-notebook-cell:/media/bikasherl/New%20Volume/Bajra_Tech/Week%204/Multiclass_Classification.ipynb#X34sZmlsZQ%3D%3D?line=4'>5</a>\u001b[0m     Loss\u001b[39m=\u001b[39mtorch\u001b[39m.\u001b[39msum((\u001b[39m-\u001b[39mY_enc_train\u001b[39m*\u001b[39mtorch\u001b[39m.\u001b[39mlog(Y_hat)),dim\u001b[39m=\u001b[39m\u001b[39m1\u001b[39m,keepdim\u001b[39m=\u001b[39m\u001b[39mTrue\u001b[39;00m)\u001b[39m.\u001b[39mmean()\n",
      "\u001b[0;31mRuntimeError\u001b[0m: The size of tensor a (60000) must match the size of tensor b (10) at non-singleton dimension 1"
     ]
    }
   ],
   "source": [
    "# Training Loop\n",
    "for i in range(500):\n",
    "    Z=X_train@W+b\n",
    "    Y_hat=softmax(Z)\n",
    "    Loss=torch.sum((-Y_enc_train*torch.log(Y_hat)),dim=1,keepdim=True).mean()\n",
    "\n",
    "    loss_list_train.append(Loss.item())\n",
    "\n",
    "    dL_dZ= (Y_hat-Y_enc_train)/X_train.shape[0]\n",
    "    dZ_dW= X_train\n",
    "\n",
    "    dL_dW=dZ_dW.T@dL_dZ\n",
    "    dL_db=torch.sum(dL_dZ,dim=0,keepdim=True)\n",
    "\n",
    "    W-=0.1*dL_dW\n",
    "    b-=0.1*dL_db\n",
    "\n",
    "    Z_test=X_test@W+b\n",
    "    Y_hat_test=softmax(Z_test)\n",
    "    Loss_test=torch.sum((-Y_enc_test*torch.log(Y_hat_test)),dim=1,keepdim=True).mean()\n",
    "    loss_list_test.append(Loss_test.item())\n",
    "    \n"
   ]
  },
  {
   "cell_type": "code",
   "execution_count": null,
   "metadata": {},
   "outputs": [
    {
     "data": {
      "image/png": "[encoded data removed]",
      "text/plain": [
       "<Figure size 1000x1000 with 1 Axes>"
      ]
     },
     "metadata": {},
     "output_type": "display_data"
    }
   ],
   "source": [
    "plt.figure(figsize=(10,10))\n",
    "plt.plot(loss_list_train,label='train')\n",
    "plt.plot(loss_list_test,label='test')\n",
    "plt.legend()\n",
    "plt.tight_layout()\n",
    "plt.show()"
   ]
  },
  {
   "cell_type": "code",
   "execution_count": null,
   "metadata": {},
   "outputs": [],
   "source": [
    "y_pred=torch.argmax(Y_hat,dim=1,keepdim=True)"
   ]
  },
  {
   "cell_type": "code",
   "execution_count": null,
   "metadata": {},
   "outputs": [
    {
     "data": {
      "text/plain": [
       "tensor(0.8058)"
      ]
     },
     "execution_count": 39,
     "metadata": {},
     "output_type": "execute_result"
    }
   ],
   "source": [
    "train_acc=torch.sum(Y_train==y_pred)/Y_train.shape[0]\n",
    "train_acc"
   ]
  }
 ],
 "metadata": {
  "kernelspec": {
   "display_name": "bajra",
   "language": "python",
   "name": "python3"
  },
  "language_info": {
   "codemirror_mode": {
    "name": "ipython",
    "version": 3
   },
   "file_extension": ".py",
   "mimetype": "text/x-python",
   "name": "python",
   "nbconvert_exporter": "python",
   "pygments_lexer": "ipython3",
   "version": "3.12.3"
  }
 },
 "nbformat": 4,
 "nbformat_minor": 2
}

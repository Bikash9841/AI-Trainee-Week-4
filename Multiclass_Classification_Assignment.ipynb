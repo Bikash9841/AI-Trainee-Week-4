{
 "cells": [
  {
   "cell_type": "code",
   "execution_count": 1,
   "metadata": {},
   "outputs": [
    {
     "name": "stderr",
     "output_type": "stream",
     "text": [
      "/home/bikasherl/miniconda3/envs/bajra/lib/python3.12/site-packages/torch/cuda/__init__.py:619: UserWarning: Can't initialize NVML\n",
      "  warnings.warn(\"Can't initialize NVML\")\n"
     ]
    }
   ],
   "source": [
    "import torch\n",
    "import torchvision\n",
    "from torchvision.datasets import MNIST\n",
    "from torchvision.transforms import ToTensor\n",
    "import matplotlib.pyplot as plt\n"
   ]
  },
  {
   "cell_type": "code",
   "execution_count": 2,
   "metadata": {},
   "outputs": [
    {
     "data": {
      "text/plain": [
       "Dataset MNIST\n",
       "    Number of datapoints: 60000\n",
       "    Root location: dataset/train/\n",
       "    Split: Train\n",
       "    StandardTransform\n",
       "Transform: ToTensor()"
      ]
     },
     "execution_count": 2,
     "metadata": {},
     "output_type": "execute_result"
    }
   ],
   "source": [
    "train_data=MNIST(root='dataset/train/',train=True,download=True,transform=ToTensor())\n",
    "train_data"
   ]
  },
  {
   "cell_type": "code",
   "execution_count": 3,
   "metadata": {},
   "outputs": [
    {
     "data": {
      "text/plain": [
       "Dataset MNIST\n",
       "    Number of datapoints: 10000\n",
       "    Root location: dataset/test/\n",
       "    Split: Test\n",
       "    StandardTransform\n",
       "Transform: ToTensor()"
      ]
     },
     "execution_count": 3,
     "metadata": {},
     "output_type": "execute_result"
    }
   ],
   "source": [
    "test_data=MNIST(root='dataset/test/',train=False,download=True,transform=ToTensor())\n",
    "test_data"
   ]
  },
  {
   "cell_type": "code",
   "execution_count": 4,
   "metadata": {},
   "outputs": [
    {
     "data": {
      "image/png": "[encoded data removed]",
      "text/plain": [
       "<Figure size 800x800 with 9 Axes>"
      ]
     },
     "metadata": {},
     "output_type": "display_data"
    }
   ],
   "source": [
    "# Create subplots\n",
    "fig, axs = plt.subplots(3, 3, figsize=(8, 8))\n",
    "\n",
    "# Plot images\n",
    "for i in range(3):\n",
    "    for j in range(3):\n",
    "        img, label = train_data[i * 3 + j]  # Accessing each image and label\n",
    "        axs[i, j].imshow(img.squeeze(),cmap='gray')\n",
    "        axs[i, j].set_title(f'Label: {label}')\n",
    "        axs[i, j].axis('off')  # Hide axis\n",
    "\n",
    "plt.tight_layout()\n",
    "plt.show()"
   ]
  },
  {
   "cell_type": "code",
   "execution_count": 5,
   "metadata": {},
   "outputs": [
    {
     "data": {
      "text/plain": [
       "(torch.Size([60000, 784]), torch.Size([60000, 1]))"
      ]
     },
     "execution_count": 5,
     "metadata": {},
     "output_type": "execute_result"
    }
   ],
   "source": [
    "# train set\n",
    "X_train=torch.flatten(train_data.data,1,2).to(torch.float32)\n",
    "Y_train=train_data.targets.reshape(X_train.shape[0],1).to(torch.int8)\n",
    "\n",
    "X_train.shape,Y_train.shape"
   ]
  },
  {
   "cell_type": "code",
   "execution_count": 6,
   "metadata": {},
   "outputs": [
    {
     "data": {
      "text/plain": [
       "(torch.Size([10000, 784]), torch.Size([10000, 1]))"
      ]
     },
     "execution_count": 6,
     "metadata": {},
     "output_type": "execute_result"
    }
   ],
   "source": [
    "# test set\n",
    "X_test=torch.flatten(test_data.data,1,2).to(torch.float32)\n",
    "\n",
    "Y_test=test_data.targets.reshape(X_test.shape[0],1).to(torch.int8)\n",
    "\n",
    "X_test.shape,Y_test.shape"
   ]
  },
  {
   "cell_type": "code",
   "execution_count": 7,
   "metadata": {},
   "outputs": [
    {
     "data": {
      "text/plain": [
       "(torch.Size([60000, 10]), torch.Size([10000, 10]))"
      ]
     },
     "execution_count": 7,
     "metadata": {},
     "output_type": "execute_result"
    }
   ],
   "source": [
    "## One hot encoding For the labels\n",
    "\n",
    "Y_enc_train=torch.zeros((Y_train.shape[0],len(train_data.classes))).to(torch.int8)\n",
    "\n",
    "for i in range(Y_train.shape[0]):\n",
    "    Y_enc_train[i][Y_train[i].item()]=1\n",
    "\n",
    "\n",
    "Y_enc_test=torch.zeros((Y_test.shape[0],len(test_data.classes))).to(torch.int8)\n",
    "\n",
    "for i in range(Y_test.shape[0]):\n",
    "    Y_enc_test[i][Y_test[i].item()]=1\n",
    "\n",
    "\n",
    "Y_enc_train.shape,Y_enc_test.shape"
   ]
  },
  {
   "cell_type": "code",
   "execution_count": 8,
   "metadata": {},
   "outputs": [
    {
     "data": {
      "text/plain": [
       "torch.Size([60000, 10])"
      ]
     },
     "execution_count": 8,
     "metadata": {},
     "output_type": "execute_result"
    }
   ],
   "source": [
    "Y_enc_train.shape"
   ]
  },
  {
   "cell_type": "markdown",
   "metadata": {},
   "source": [
    "## Min max scaling of the training and testing data"
   ]
  },
  {
   "cell_type": "code",
   "execution_count": 9,
   "metadata": {},
   "outputs": [],
   "source": [
    "\n",
    "# scaling train dataset\n",
    "for i in range(X_train.shape[0]):\n",
    "    X_train[i]=(X_train[i]-X_train[i].min())/(X_train[i].max()-X_train[i].min())\n",
    "\n",
    "\n",
    "# scaling test dataset\n",
    "for i in range(X_test.shape[0]):\n",
    "    X_test[i]=(X_test[i]-X_test[i].min())/(X_test[i].max()-X_test[i].min())"
   ]
  },
  {
   "cell_type": "code",
   "execution_count": 10,
   "metadata": {},
   "outputs": [
    {
     "data": {
      "text/plain": [
       "(tensor([[-2.3828, -0.0384, -0.7482,  ...,  0.0242, -0.6050,  0.8592],\n",
       "         [ 1.0213, -0.4123,  0.5190,  ...,  1.0188, -0.8578, -0.9540],\n",
       "         [-0.9221,  0.1881,  0.6282,  ...,  0.2566, -2.2773, -0.1368],\n",
       "         ...,\n",
       "         [ 0.1366, -0.3608,  1.4731,  ..., -1.2927,  0.3903,  1.2524],\n",
       "         [-0.3379, -0.9434, -0.5505,  ..., -0.8600, -0.1427, -0.6380],\n",
       "         [ 0.8305,  0.0942, -0.6904,  ...,  0.0704,  0.9140,  0.3981]]),\n",
       " torch.Size([1, 10]),\n",
       " torch.float32,\n",
       " tensor([[-0.9795,  0.3770, -0.2940,  0.8024, -0.6843,  0.9187,  1.1333,  0.3559,\n",
       "           0.1754,  1.1980]]))"
      ]
     },
     "execution_count": 10,
     "metadata": {},
     "output_type": "execute_result"
    }
   ],
   "source": [
    "# Weight and Bias Initialization\n",
    "\n",
    "# this one is for testing manually computed gradient\n",
    "w_test=torch.randn((X_train.shape[1],Y_enc_train.shape[1]),dtype=torch.float32,requires_grad=True)\n",
    "b_test=torch.randn((1,Y_enc_train.shape[1]),dtype=torch.float32,requires_grad=True)\n",
    "\n",
    "\n",
    "W=torch.randn((X_train.shape[1],Y_enc_train.shape[1]),dtype=torch.float32,requires_grad=False)\n",
    "b=torch.randn((1,Y_enc_train.shape[1]),dtype=torch.float32,requires_grad=False)\n",
    "\n",
    "W,b.shape,W.dtype,b"
   ]
  },
  {
   "cell_type": "code",
   "execution_count": 11,
   "metadata": {},
   "outputs": [
    {
     "name": "stdout",
     "output_type": "stream",
     "text": [
      "tensor(38.5055, grad_fn=<MaxBackward1>)\n"
     ]
    }
   ],
   "source": [
    "Z=X_train@w_test+b_test\n",
    "print(Z.max())"
   ]
  },
  {
   "cell_type": "code",
   "execution_count": 12,
   "metadata": {},
   "outputs": [],
   "source": [
    "def softmax(Z):\n",
    "    return (torch.exp(Z)/torch.sum(torch.exp(Z),dim=1,keepdim=True))"
   ]
  },
  {
   "cell_type": "code",
   "execution_count": 13,
   "metadata": {},
   "outputs": [],
   "source": [
    "def categorical_cross_entropy(Y_enc_train,Y_hat):\n",
    "    return torch.sum((-Y_enc_train*torch.log(Y_hat)),dim=1,keepdim=True).mean()\n",
    " "
   ]
  },
  {
   "cell_type": "code",
   "execution_count": 14,
   "metadata": {},
   "outputs": [
    {
     "data": {
      "text/plain": [
       "tensor(14.5432, grad_fn=<MeanBackward0>)"
      ]
     },
     "execution_count": 14,
     "metadata": {},
     "output_type": "execute_result"
    }
   ],
   "source": [
    "Y_hat_grad=softmax(Z)\n",
    "Loss_grad=categorical_cross_entropy(Y_enc_train,Y_hat_grad)\n",
    "Loss_grad"
   ]
  },
  {
   "cell_type": "code",
   "execution_count": 15,
   "metadata": {},
   "outputs": [
    {
     "name": "stdout",
     "output_type": "stream",
     "text": [
      "shape- dL_dZ: torch.Size([60000, 10])      \n",
      "shape- dZ_dW: torch.Size([60000, 784])      \n",
      "shape- dL_dW: torch.Size([784, 10])      \n",
      "shape- dL_db: torch.Size([1, 10])\n"
     ]
    }
   ],
   "source": [
    "# Calculating Gradients\n",
    "\n",
    "dL_dZ= (Y_hat_grad-Y_enc_train)/X_train.shape[0]\n",
    "dZ_dW= X_train\n",
    "\n",
    "dL_dW=dZ_dW.T@dL_dZ\n",
    "\n",
    "dL_db=torch.sum(dL_dZ,dim=0,keepdim=True)\n",
    "\n",
    "print(f\"shape- dL_dZ: {dL_dZ.shape}\\\n",
    "      \\nshape- dZ_dW: {dZ_dW.shape}\\\n",
    "      \\nshape- dL_dW: {dL_dW.shape}\\\n",
    "      \\nshape- dL_db: {dL_db.shape}\")\n"
   ]
  },
  {
   "cell_type": "markdown",
   "metadata": {},
   "source": [
    "## Testing if the manually computed gradient are right"
   ]
  },
  {
   "cell_type": "code",
   "execution_count": 16,
   "metadata": {},
   "outputs": [
    {
     "name": "stdout",
     "output_type": "stream",
     "text": [
      "tensor([-0.0664, -0.0350, -0.0504, -0.0011,  0.1335, -0.0291, -0.0652,  0.1076,\n",
      "         0.0308, -0.0247]) tensor([[-0.0932, -0.0752, -0.0927, -0.0059,  0.2232, -0.0609, -0.0913,  0.1731,\n",
      "          0.1183, -0.0954]])\n",
      "Weight comparison:True  \n",
      "Bias Comparison: True\n"
     ]
    }
   ],
   "source": [
    "Loss_grad.backward()\n",
    "\n",
    "print(w_test.grad[600],b_test.grad)\n",
    "print(f\"Weight comparison:{torch.allclose(w_test.grad,dL_dW)}\\\n",
    "  \\nBias Comparison: {torch.allclose(b_test.grad,dL_db)}\")"
   ]
  },
  {
   "cell_type": "code",
   "execution_count": 17,
   "metadata": {},
   "outputs": [],
   "source": [
    "loss_list_train=[]\n",
    "loss_list_test=[]"
   ]
  },
  {
   "cell_type": "markdown",
   "metadata": {},
   "source": [
    "## Training Loop"
   ]
  },
  {
   "cell_type": "code",
   "execution_count": 21,
   "metadata": {},
   "outputs": [],
   "source": [
    "# Training Loop\n",
    "for i in range(500):\n",
    "    Z=X_train@W+b\n",
    "\n",
    "    Y_hat=softmax(Z)\n",
    "    Loss=categorical_cross_entropy(Y_enc_train,Y_hat)\n",
    "\n",
    "    loss_list_train.append(Loss.item())\n",
    "\n",
    "    dL_dZ= (Y_hat-Y_enc_train)/X_train.shape[0]\n",
    "    dZ_dW= X_train\n",
    "\n",
    "\n",
    "    dL_dW=dZ_dW.T@dL_dZ\n",
    "    dL_db=torch.sum(dL_dZ,dim=0,keepdim=True)\n",
    "\n",
    "\n",
    "    W=W-0.99*dL_dW\n",
    "    b=b-0.99*dL_db\n",
    "\n",
    "\n",
    "    Z_test=X_test@W+b\n",
    "    Y_hat_test=softmax(Z_test)\n",
    "    Loss_test=torch.sum((-Y_enc_test*torch.log(Y_hat_test)),dim=1,keepdim=True).mean()\n",
    "    loss_list_test.append(Loss_test.item())\n",
    "\n"
   ]
  },
  {
   "cell_type": "code",
   "execution_count": 22,
   "metadata": {},
   "outputs": [
    {
     "data": {
      "image/png": "[encoded data removed]",
      "text/plain": [
       "<Figure size 1000x1000 with 1 Axes>"
      ]
     },
     "metadata": {},
     "output_type": "display_data"
    }
   ],
   "source": [
    "plt.figure(figsize=(10,10))\n",
    "plt.plot(loss_list_train,label='train')\n",
    "plt.plot(loss_list_test,label='test')\n",
    "plt.legend()\n",
    "plt.tight_layout()\n",
    "plt.show()"
   ]
  },
  {
   "cell_type": "markdown",
   "metadata": {},
   "source": [
    "## Train and Test Accuracy"
   ]
  },
  {
   "cell_type": "code",
   "execution_count": 23,
   "metadata": {},
   "outputs": [
    {
     "name": "stdout",
     "output_type": "stream",
     "text": [
      "Train Accuracy: 0.8942000269889832      \n",
      "Test Accuracy: 0.8949999809265137\n"
     ]
    }
   ],
   "source": [
    "# train accuracy\n",
    "y_pred=torch.argmax(Y_hat,dim=1,keepdim=True)\n",
    "train_acc=torch.sum(Y_train==y_pred)/Y_train.shape[0]\n",
    "\n",
    "\n",
    "# test accuracy\n",
    "Z_test=X_test@W+b\n",
    "Y_hat_test=softmax(Z_test)\n",
    "y_pred_test=torch.argmax(Y_hat_test,dim=1,keepdim=True)\n",
    "test_acc=torch.sum(Y_test==y_pred_test)/Y_test.shape[0]\n",
    "\n",
    "print(f\"Train Accuracy: {train_acc}\\\n",
    "      \\nTest Accuracy: {test_acc}\")\n"
   ]
  },
  {
   "cell_type": "code",
   "execution_count": null,
   "metadata": {},
   "outputs": [],
   "source": []
  }
 ],
 "metadata": {
  "kernelspec": {
   "display_name": "bajra",
   "language": "python",
   "name": "python3"
  },
  "language_info": {
   "codemirror_mode": {
    "name": "ipython",
    "version": 3
   },
   "file_extension": ".py",
   "mimetype": "text/x-python",
   "name": "python",
   "nbconvert_exporter": "python",
   "pygments_lexer": "ipython3",
   "version": "3.12.3"
  }
 },
 "nbformat": 4,
 "nbformat_minor": 2
}

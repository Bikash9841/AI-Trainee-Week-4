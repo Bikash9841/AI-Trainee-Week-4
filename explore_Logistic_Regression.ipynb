{
 "cells": [
  {
   "cell_type": "code",
   "execution_count": 1,
   "metadata": {},
   "outputs": [
    {
     "name": "stderr",
     "output_type": "stream",
     "text": [
      "/home/bikasherl/miniconda3/envs/bajra/lib/python3.12/site-packages/torch/cuda/__init__.py:619: UserWarning: Can't initialize NVML\n",
      "  warnings.warn(\"Can't initialize NVML\")\n"
     ]
    }
   ],
   "source": [
    "import torch\n",
    "import torchvision\n",
    "import matplotlib.pyplot as plt \n",
    "from torchvision import datasets\n",
    "from torchvision.transforms import ToTensor\n"
   ]
  },
  {
   "cell_type": "code",
   "execution_count": 2,
   "metadata": {},
   "outputs": [
    {
     "data": {
      "text/plain": [
       "Dataset MNIST\n",
       "    Number of datapoints: 60000\n",
       "    Root location: dataset/train/\n",
       "    Split: Train\n",
       "    StandardTransform\n",
       "Transform: ToTensor()"
      ]
     },
     "execution_count": 2,
     "metadata": {},
     "output_type": "execute_result"
    }
   ],
   "source": [
    "train_data=datasets.MNIST(root='dataset/train/',train=True,download=True,transform=ToTensor())\n",
    "train_data"
   ]
  },
  {
   "cell_type": "code",
   "execution_count": 3,
   "metadata": {},
   "outputs": [
    {
     "data": {
      "text/plain": [
       "Dataset MNIST\n",
       "    Number of datapoints: 10000\n",
       "    Root location: dataset/test/\n",
       "    Split: Test\n",
       "    StandardTransform\n",
       "Transform: ToTensor()"
      ]
     },
     "execution_count": 3,
     "metadata": {},
     "output_type": "execute_result"
    }
   ],
   "source": [
    "test_data=datasets.MNIST(root='dataset/test/',train=False,download=True,transform=ToTensor())\n",
    "test_data"
   ]
  },
  {
   "cell_type": "code",
   "execution_count": 4,
   "metadata": {},
   "outputs": [
    {
     "data": {
      "image/png": "[encoded data removed]",
      "text/plain": [
       "<Figure size 800x800 with 9 Axes>"
      ]
     },
     "metadata": {},
     "output_type": "display_data"
    }
   ],
   "source": [
    "# Create subplots\n",
    "fig, axs = plt.subplots(3, 3, figsize=(8, 8))\n",
    "\n",
    "# Plot images\n",
    "for i in range(3):\n",
    "    for j in range(3):\n",
    "        img, label = train_data[i * 3 + j]  # Accessing each image and label\n",
    "        axs[i, j].imshow(img.squeeze())\n",
    "        axs[i, j].set_title(f'Label: {label}')\n",
    "        axs[i, j].axis('off')  # Hide axis\n",
    "\n",
    "plt.tight_layout()\n",
    "plt.show()"
   ]
  },
  {
   "cell_type": "code",
   "execution_count": 5,
   "metadata": {},
   "outputs": [],
   "source": [
    "\n",
    "X_train=torch.flatten(train_data.data,1,2).to(torch.float64)\n",
    "\n",
    "Y_train=torch.tensor([1 if i==3 else 0 for i in train_data.targets]).reshape(X_train.shape[0],1).to(torch.float64)"
   ]
  },
  {
   "cell_type": "code",
   "execution_count": 6,
   "metadata": {},
   "outputs": [
    {
     "data": {
      "text/plain": [
       "torch.Size([10000, 28, 28])"
      ]
     },
     "execution_count": 6,
     "metadata": {},
     "output_type": "execute_result"
    }
   ],
   "source": [
    "test_data.data.shape"
   ]
  },
  {
   "cell_type": "code",
   "execution_count": 7,
   "metadata": {},
   "outputs": [],
   "source": [
    "X_test=torch.flatten(test_data.data,1,2).to(torch.float64)\n",
    "\n",
    "Y_test=torch.tensor([1 if i==3 else 0 for i in test_data.targets]).reshape(X_test.shape[0],1).to(torch.float64)"
   ]
  },
  {
   "cell_type": "code",
   "execution_count": 8,
   "metadata": {},
   "outputs": [],
   "source": [
    "# Min max scaling of the training data\n",
    "\n",
    "for i in range(X_train.shape[0]):\n",
    "    X_train[i]=(X_train[i]-X_train[i].min())/(X_train[i].max()-X_train[i].min())\n",
    "\n",
    "\n",
    "for i in range(X_test.shape[0]):\n",
    "    X_test[i]=(X_test[i]-X_test[i].min())/(X_test[i].max()-X_test[i].min())"
   ]
  },
  {
   "cell_type": "code",
   "execution_count": 9,
   "metadata": {},
   "outputs": [
    {
     "data": {
      "text/plain": [
       "(torch.Size([60000, 784]),\n",
       " torch.Size([60000, 1]),\n",
       " torch.Size([10000, 784]),\n",
       " torch.Size([10000, 1]))"
      ]
     },
     "execution_count": 9,
     "metadata": {},
     "output_type": "execute_result"
    }
   ],
   "source": [
    "X_train.shape,Y_train.shape,X_test.shape,Y_test.shape"
   ]
  },
  {
   "cell_type": "markdown",
   "metadata": {},
   "source": [
    "# Logistic Regression: Binary Classification"
   ]
  },
  {
   "cell_type": "markdown",
   "metadata": {},
   "source": [
    "## Sigmoid Activation Function"
   ]
  },
  {
   "cell_type": "code",
   "execution_count": 10,
   "metadata": {},
   "outputs": [],
   "source": [
    "def sigmoid(z):\n",
    "    out=1/(1+torch.exp(-z))\n",
    "    # for idx,val in enumerate(out):\n",
    "    #     if val==1:\n",
    "    #         out[idx]= val-1e-4\n",
    "    #     elif val == 0:\n",
    "    #         out[idx]=val+1e-4\n",
    "    # print(f\"out: {out}\")\n",
    "    return out "
   ]
  },
  {
   "cell_type": "markdown",
   "metadata": {},
   "source": [
    "## Weight and Bias Initialization"
   ]
  },
  {
   "cell_type": "code",
   "execution_count": 11,
   "metadata": {},
   "outputs": [
    {
     "data": {
      "text/plain": [
       "(torch.Size([784, 1]), torch.Size([1, 1]), torch.float64, torch.float64)"
      ]
     },
     "execution_count": 11,
     "metadata": {},
     "output_type": "execute_result"
    }
   ],
   "source": [
    "W=torch.randn((X_train.shape[1],1),dtype=torch.float64)\n",
    "b=torch.randn((1,1),dtype=torch.float64)\n",
    "\n",
    "W.shape,b.shape,W.dtype,b.dtype"
   ]
  },
  {
   "cell_type": "code",
   "execution_count": 12,
   "metadata": {},
   "outputs": [],
   "source": [
    "loss_list_train=[]\n",
    "loss_list_test=[]"
   ]
  },
  {
   "cell_type": "markdown",
   "metadata": {},
   "source": [
    "## Training Loop"
   ]
  },
  {
   "cell_type": "code",
   "execution_count": 13,
   "metadata": {},
   "outputs": [],
   "source": [
    "for i in range(500):\n",
    "    z=X_train@W+b\n",
    "    # z1=(z-z.mean())/(z.std())\n",
    "    # print(sigmoid(z1))\n",
    "    a=sigmoid(z)\n",
    "    # print(a)\n",
    "\n",
    "    Loss= (-Y_train*torch.log(a)-(1-Y_train)*torch.log(1-a)).mean()\n",
    "    \n",
    "\n",
    "    loss_list_train.append(Loss.item())\n",
    "    # dL_da= (-Y_train/a)+((1-Y_train)/(1-a))\n",
    "    # da_dz=a*(1-a)\n",
    "    # dz_dw=X_train\n",
    "\n",
    "    # dL_dw=X_train.T@(dL_da*da_dz)/X_train.shape[0]\n",
    "    dL_dw=(X_train.T@(a-Y_train))/X_train.shape[0]\n",
    "    # dL_db=(dL_da*da_dz).sum()\n",
    "    dL_db=(a-Y_train).mean()\n",
    "\n",
    "\n",
    "    W-=0.1*dL_dw\n",
    "    b-=0.1*dL_db\n",
    "\n",
    "    # test\n",
    "    z_test=X_test@W+b\n",
    "    z_test=(z_test-z_test.mean()/(z_test.std()))\n",
    "    a_test=sigmoid(z_test)\n",
    "\n",
    "    Loss_test=(-Y_test*torch.log(a_test)-(1-Y_test)*torch.log(1-a_test)).mean()\n",
    "    loss_list_test.append(Loss_test.item())\n",
    "    # pred=X_test@W+b\n",
    "    \n"
   ]
  },
  {
   "cell_type": "code",
   "execution_count": 14,
   "metadata": {},
   "outputs": [
    {
     "data": {
      "image/png": "[encoded data removed]",
      "text/plain": [
       "<Figure size 1000x1000 with 1 Axes>"
      ]
     },
     "metadata": {},
     "output_type": "display_data"
    }
   ],
   "source": [
    "plt.figure(figsize=(10,10))\n",
    "plt.plot(loss_list_train,label='train')\n",
    "plt.plot(loss_list_test,label='test')\n",
    "plt.legend()\n",
    "plt.title(\"Loss Curve\")\n",
    "\n",
    "plt.tight_layout()\n",
    "plt.show()"
   ]
  },
  {
   "cell_type": "code",
   "execution_count": 15,
   "metadata": {},
   "outputs": [
    {
     "name": "stdout",
     "output_type": "stream",
     "text": [
      "train accuracy: 0.9297666549682617\n",
      "test accuracy: 0.9291999936103821\n"
     ]
    }
   ],
   "source": [
    "pred=[1 if val>0.5 else 0 for val in a]\n",
    "\n",
    "train_acc=torch.sum(torch.tensor(pred) == Y_train.reshape(1,-1))/X_train.shape[0]\n",
    "\n",
    "y_testhat=X_test@W+b\n",
    "a_test=sigmoid(y_testhat)\n",
    "\n",
    "pred_test=[1 if val>0.5 else 0 for val in a_test]\n",
    "\n",
    "test_acc=torch.sum(torch.tensor(pred_test) == Y_test.reshape(1,-1))/X_test.shape[0]\n",
    "\n",
    "print(f\"train accuracy: {train_acc}\")\n",
    "print(f\"test accuracy: {test_acc}\")\n"
   ]
  }
 ],
 "metadata": {
  "kernelspec": {
   "display_name": "base",
   "language": "python",
   "name": "python3"
  },
  "language_info": {
   "codemirror_mode": {
    "name": "ipython",
    "version": 3
   },
   "file_extension": ".py",
   "mimetype": "text/x-python",
   "name": "python",
   "nbconvert_exporter": "python",
   "pygments_lexer": "ipython3",
   "version": "3.12.3"
  }
 },
 "nbformat": 4,
 "nbformat_minor": 2
}
